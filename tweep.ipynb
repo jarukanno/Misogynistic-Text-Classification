{
 "cells": [
  {
   "cell_type": "code",
   "execution_count": 2,
   "metadata": {},
   "outputs": [],
   "source": [
    "import numpy as npad\n",
    "import pandas as pd\n",
    "import scipy\n",
    "import matplotlib\n",
    "import sklearn\n",
    "import sys\n",
    "import os\n",
    "import json\n",
    "import io\n",
    "\n",
    "from sklearn.model_selection import train_test_split\n",
    "from sklearn.naive_bayes import GaussianNB\n",
    "from sklearn.metrics import accuracy_score\n",
    "import matplotlib.pyplot as plt\n",
    "import seaborn as sns"
   ]
  },
  {
   "cell_type": "code",
   "execution_count": 3,
   "metadata": {},
   "outputs": [
    {
     "name": "stdout",
     "output_type": "stream",
     "text": [
      "Requirement already satisfied: requests in c:\\users\\hp\\anaconda3\\lib\\site-packages (2.24.0)\n",
      "Requirement already satisfied: urllib3!=1.25.0,!=1.25.1,<1.26,>=1.21.1 in c:\\users\\hp\\anaconda3\\lib\\site-packages (from requests) (1.25.9)\n",
      "Requirement already satisfied: chardet<4,>=3.0.2 in c:\\users\\hp\\anaconda3\\lib\\site-packages (from requests) (3.0.4)\n",
      "Requirement already satisfied: idna<3,>=2.5 in c:\\users\\hp\\anaconda3\\lib\\site-packages (from requests) (2.10)\n",
      "Requirement already satisfied: certifi>=2017.4.17 in c:\\users\\hp\\anaconda3\\lib\\site-packages (from requests) (2020.6.20)\n",
      "Requirement already satisfied: requests-oauthlib in c:\\users\\hp\\anaconda3\\lib\\site-packages (1.3.0)\n",
      "Requirement already satisfied: requests>=2.0.0 in c:\\users\\hp\\anaconda3\\lib\\site-packages (from requests-oauthlib) (2.24.0)\n",
      "Requirement already satisfied: oauthlib>=3.0.0 in c:\\users\\hp\\anaconda3\\lib\\site-packages (from requests-oauthlib) (3.1.0)\n",
      "Requirement already satisfied: idna<3,>=2.5 in c:\\users\\hp\\anaconda3\\lib\\site-packages (from requests>=2.0.0->requests-oauthlib) (2.10)\n",
      "Requirement already satisfied: chardet<4,>=3.0.2 in c:\\users\\hp\\anaconda3\\lib\\site-packages (from requests>=2.0.0->requests-oauthlib) (3.0.4)\n",
      "Requirement already satisfied: urllib3!=1.25.0,!=1.25.1,<1.26,>=1.21.1 in c:\\users\\hp\\anaconda3\\lib\\site-packages (from requests>=2.0.0->requests-oauthlib) (1.25.9)\n",
      "Requirement already satisfied: certifi>=2017.4.17 in c:\\users\\hp\\anaconda3\\lib\\site-packages (from requests>=2.0.0->requests-oauthlib) (2020.6.20)\n"
     ]
    }
   ],
   "source": [
    "!pip install requests\n",
    "!pip install requests-oauthlib"
   ]
  },
  {
   "cell_type": "code",
   "execution_count": 5,
   "metadata": {},
   "outputs": [
    {
     "name": "stdout",
     "output_type": "stream",
     "text": [
      "Requirement already satisfied: searchtweets in c:\\users\\hp\\anaconda3\\lib\\site-packages (1.7.6)\n",
      "Requirement already satisfied: requests in c:\\users\\hp\\anaconda3\\lib\\site-packages (from searchtweets) (2.24.0)\n",
      "Requirement already satisfied: tweet-parser in c:\\users\\hp\\anaconda3\\lib\\site-packages (from searchtweets) (1.13.2)\n",
      "Requirement already satisfied: pyyaml in c:\\users\\hp\\anaconda3\\lib\\site-packages (from searchtweets) (5.3.1)\n",
      "Requirement already satisfied: idna<3,>=2.5 in c:\\users\\hp\\anaconda3\\lib\\site-packages (from requests->searchtweets) (2.10)\n",
      "Requirement already satisfied: chardet<4,>=3.0.2 in c:\\users\\hp\\anaconda3\\lib\\site-packages (from requests->searchtweets) (3.0.4)\n",
      "Requirement already satisfied: urllib3!=1.25.0,!=1.25.1,<1.26,>=1.21.1 in c:\\users\\hp\\anaconda3\\lib\\site-packages (from requests->searchtweets) (1.25.9)\n",
      "Requirement already satisfied: certifi>=2017.4.17 in c:\\users\\hp\\anaconda3\\lib\\site-packages (from requests->searchtweets) (2020.6.20)\n",
      "Requirement already satisfied: tweepy in c:\\users\\hp\\anaconda3\\lib\\site-packages (3.10.0)\n",
      "Requirement already satisfied: six>=1.10.0 in c:\\users\\hp\\anaconda3\\lib\\site-packages (from tweepy) (1.15.0)\n",
      "Requirement already satisfied: requests[socks]>=2.11.1 in c:\\users\\hp\\anaconda3\\lib\\site-packages (from tweepy) (2.24.0)\n",
      "Requirement already satisfied: requests-oauthlib>=0.7.0 in c:\\users\\hp\\anaconda3\\lib\\site-packages (from tweepy) (1.3.0)\n",
      "Requirement already satisfied: chardet<4,>=3.0.2 in c:\\users\\hp\\anaconda3\\lib\\site-packages (from requests[socks]>=2.11.1->tweepy) (3.0.4)\n",
      "Requirement already satisfied: urllib3!=1.25.0,!=1.25.1,<1.26,>=1.21.1 in c:\\users\\hp\\anaconda3\\lib\\site-packages (from requests[socks]>=2.11.1->tweepy) (1.25.9)\n",
      "Requirement already satisfied: certifi>=2017.4.17 in c:\\users\\hp\\anaconda3\\lib\\site-packages (from requests[socks]>=2.11.1->tweepy) (2020.6.20)\n",
      "Requirement already satisfied: idna<3,>=2.5 in c:\\users\\hp\\anaconda3\\lib\\site-packages (from requests[socks]>=2.11.1->tweepy) (2.10)\n",
      "Requirement already satisfied: PySocks!=1.5.7,>=1.5.6; extra == \"socks\" in c:\\users\\hp\\anaconda3\\lib\\site-packages (from requests[socks]>=2.11.1->tweepy) (1.7.1)\n",
      "Requirement already satisfied: oauthlib>=3.0.0 in c:\\users\\hp\\anaconda3\\lib\\site-packages (from requests-oauthlib>=0.7.0->tweepy) (3.1.0)\n"
     ]
    }
   ],
   "source": [
    "!pip install searchtweets\n",
    "!pip install tweepy"
   ]
  },
  {
   "cell_type": "code",
   "execution_count": 6,
   "metadata": {},
   "outputs": [],
   "source": [
    "import tweepy as tw\n",
    "\n",
    "# your Twitter API key and API secret\n",
    "my_api_key = \"ylK7oGqtnqjLeEwtZAGHzdq0C\"\n",
    "my_api_secret = \"1bhRzneOqY4oDoF25o9NxoCfnYxb0GjVFA4xBVo6cZ45w5FloG\"\n",
    "\n",
    "# authenticate\n",
    "auth = tw.OAuthHandler(my_api_key, my_api_secret)\n",
    "api = tw.API(auth, wait_on_rate_limit=True)"
   ]
  },
  {
   "cell_type": "code",
   "execution_count": 225,
   "metadata": {},
   "outputs": [],
   "source": [
    "search_query1 = \"ร่าน -filter:retweets -filter:links \"\n",
    "tweets = tw.Cursor(api.search,\n",
    "              q=\"ร่าน -filter:retweets\",\n",
    "              lang=\"th\",\n",
    "              result_type=\"mixed\",    \n",
    "              since=\"2020-01-01\").items(500)\n",
    "\n",
    "search_query2 = \"กะหรี่ -filter:retweets\"\n",
    "tweets2 = tw.Cursor(api.search,\n",
    "              q=\"กะหรี่ -filter:retweets\",\n",
    "              lang=\"th\",\n",
    "              result_type=\"mixed\",    \n",
    "              since=\"2020-01-01\").items(300)\n",
    "\n",
    "search_query3 = \"หน้าตัวเมีย \"\n",
    "tweets3 = tw.Cursor(api.search,\n",
    "              q=\"หน้าตัวเมีย -filter:retweets\",\n",
    "              lang=\"th\",\n",
    "                \n",
    "              until=\"2021-05-30\").items(1500)\n",
    "\n",
    "search_query4 = \"รักนวลสงวนตัว -filter:retweets\"\n",
    "tweets4 = tw.Cursor(api.search,\n",
    "              q=\"นวลสงวนตัว\",\n",
    "              lang=\"th\",\n",
    "                 \n",
    "              since=\"2019-01-01\").items(2000)\n",
    "\n",
    "search_query5 = \"วัตถุทางเพศ -filter:retweets \"\n",
    "tweets5 = tw.Cursor(api.search,\n",
    "              q=\"วัตถุทางเพศ -filter:retweets \",\n",
    "              lang=\"th\",\n",
    "              result_type=\"mixed\",    \n",
    "              since=\"2020-01-01\").items(2000)\n",
    "\n",
    "search_query6 = \"แม่ศรีเรือน -filter:retweets \"\n",
    "tweets6 = tw.Cursor(api.search,\n",
    "              q=\"แม่ศรีเรือน -filter:retweets \",\n",
    "              lang=\"th\",\n",
    "              result_type=\"mixed\",    \n",
    "              since=\"2020-01-01\").items(1000)\n",
    "\n",
    "search_query7 = \"แรด -filter:retweets \"\n",
    "tweets7 = tw.Cursor(api.search,\n",
    "              q=\"แรด -filter:retweets \",\n",
    "              lang=\"th\",\n",
    "              result_type=\"mixed\",    \n",
    "              since=\"2020-01-01\").items(200)\n",
    "\n",
    "search_query8 = \"Sex object -filter:retweets \"\n",
    "tweets8 = tw.Cursor(api.search,\n",
    "              q=\"Sex object -filter:retweets \",\n",
    "              lang=\"th\",\n",
    "              result_type=\"mixed\",    \n",
    "              since=\"2020-01-01\").items(2000)\n",
    "\n",
    "search_query9 = \"ผู้หญิง เครื่องผลิตลูก -filter:retweets \"\n",
    "tweets9 = tw.Cursor(api.search,\n",
    "              q=\"ผู้หญิง เครื่องผลิตลูก -filter:retweets \",\n",
    "              lang=\"th\",\n",
    "              result_type=\"mixed\",    \n",
    "              since=\"2020-01-01\").items(1000)\n",
    "\n",
    "search_query10 = \"ผู้หญิง ทาส -filter:retweets \"\n",
    "tweets10 = tw.Cursor(api.search,\n",
    "              q=\"ผู้หญิง ทาส -filter:retweets \",\n",
    "              lang=\"th\",\n",
    "              result_type=\"mixed\",    \n",
    "              since=\"2020-01-01\").items(2000)\n",
    "\n",
    "search_query11 = \"from:@Or_peaw -filter:retweets \"\n",
    "tweets11 = tw.Cursor(api.search,\n",
    "              q=\"from:@Or_peaw -filter:retweets \",\n",
    "              lang=\"th\").items(1000)\n",
    "\n",
    "search_query12 = \"เครื่องผลิตลูก -filter:retweets \"\n",
    "tweets12 = tw.Cursor(api.search,\n",
    "              q=search_query12,\n",
    "              lang=\"th\",\n",
    "              result_type=\"mixed\",    \n",
    "              since=\"2020-01-01\").items(1000)\n",
    "\n",
    "search_query13 = \"นิสัยผู้หญิง -filter:retweets \"\n",
    "tweets13 = tw.Cursor(api.search,\n",
    "              q=search_query13,\n",
    "              lang=\"th\",\n",
    "              result_type=\"mixed\",    \n",
    "              since=\"2020-01-01\").items(1000)\n",
    "\n",
    "search_query14 = \"ผู้หญิง สิ่งของ -filter:retweets \"\n",
    "tweets14 = tw.Cursor(api.search,\n",
    "              q=search_query14,\n",
    "              lang=\"th\",\n",
    "              result_type=\"mixed\",    \n",
    "              since=\"2020-01-01\").items(1000)\n",
    "\n",
    "search_query15 = \"เเพ้ผู้หญิง -filter:retweets \"\n",
    "tweets15 = tw.Cursor(api.search,\n",
    "              q=search_query15,\n",
    "              lang=\"th\").items(1000)\n",
    "\n",
    "search_query16 = \"ผู้หญิง+คุณค่า -filter:retweets \"\n",
    "tweets16 = tw.Cursor(api.search,\n",
    "              q=search_query16,\n",
    "              lang=\"th\",\n",
    "              result_type=\"mixed\",    \n",
    "              since=\"2020-01-01\").items(1000)\n",
    "\n",
    "search_query17 = \"ผู้หญิง เลว -filter:retweets \"\n",
    "tweets17 = tw.Cursor(api.search,\n",
    "              q=search_query17,\n",
    "              lang=\"th\",\n",
    "              result_type=\"mixed\",    \n",
    "              since=\"2020-01-01\").items(1000)\n",
    "\n",
    "search_query18 = \"ผู้หญิง ต่ำ -filter:retweets \"\n",
    "tweets18 = tw.Cursor(api.search,\n",
    "              q=search_query18,\n",
    "              lang=\"th\",\n",
    "              result_type=\"mixed\",    \n",
    "              since=\"2020-01-01\").items(1000)\n",
    "\n",
    "search_query19 = \"ผู้หญิง ข่มขืน -filter:retweets \"\n",
    "tweets19 = tw.Cursor(api.search,\n",
    "              q=search_query19,\n",
    "              lang=\"th\",\n",
    "              result_type=\"mixed\",    \n",
    "              since=\"2019-01-01\").items(1000)\n",
    "\n",
    "search_query20 = \"ผู้หญิง -filter:retweets \"\n",
    "tweets20 = tw.Cursor(api.search,\n",
    "              q=search_query20,\n",
    "              lang=\"th\",\n",
    "              result_type=\"mixed\",    \n",
    "              since=\"2020-01-01\").items(2000)\n",
    "\n",
    "\n",
    "\n"
   ]
  },
  {
   "cell_type": "code",
   "execution_count": 223,
   "metadata": {},
   "outputs": [],
   "source": [
    "# store the API responses in a list\n",
    "girl = []\n",
    "def append_tweets (tweets):\n",
    "    for tweet in tweets:\n",
    "        girl.append(tweet)\n",
    "\n"
   ]
  },
  {
   "cell_type": "code",
   "execution_count": 226,
   "metadata": {},
   "outputs": [],
   "source": [
    "append_tweets(tweets20)"
   ]
  },
  {
   "cell_type": "code",
   "execution_count": 227,
   "metadata": {},
   "outputs": [
    {
     "name": "stdout",
     "output_type": "stream",
     "text": [
      "Total Tweets fetched: 2000\n"
     ]
    }
   ],
   "source": [
    "\n",
    "print(\"Total Tweets fetched:\", len(girl))"
   ]
  },
  {
   "cell_type": "code",
   "execution_count": 222,
   "metadata": {},
   "outputs": [
    {
     "name": "stdout",
     "output_type": "stream",
     "text": [
      "[Status(_api=<tweepy.api.API object at 0x0000012D50B98A90>, _json={'created_at': 'Tue May 25 05:11:54 +0000 2021', 'id': 1397057816397946881, 'id_str': '1397057816397946881', 'text': 'คนเหี้ยอะไรเป็นโรคเเพ้ผู้หญิงยกเว้นเมียตัวเองวะ5555 ที่เเพ้นี่หมายถึงเเบบพออยู่ใกล้ผู้หญิงเเล้วจะอ้วก ไอ้สัด5555555555555', 'truncated': False, 'entities': {'hashtags': [], 'symbols': [], 'user_mentions': [], 'urls': []}, 'metadata': {'iso_language_code': 'th', 'result_type': 'recent'}, 'source': '<a href=\"http://twitter.com/download/iphone\" rel=\"nofollow\">Twitter for iPhone</a>', 'in_reply_to_status_id': None, 'in_reply_to_status_id_str': None, 'in_reply_to_user_id': None, 'in_reply_to_user_id_str': None, 'in_reply_to_screen_name': None, 'user': {'id': 1347759629380448257, 'id_str': '1347759629380448257', 'name': 'Polomayyymeee', 'screen_name': 'polomaymee', 'location': '', 'description': 'นอนนอนนอนนอนนอนนอน', 'url': None, 'entities': {'description': {'urls': []}}, 'protected': False, 'followers_count': 124, 'friends_count': 331, 'listed_count': 0, 'created_at': 'Sat Jan 09 04:18:57 +0000 2021', 'favourites_count': 96, 'utc_offset': None, 'time_zone': None, 'geo_enabled': False, 'verified': False, 'statuses_count': 2334, 'lang': None, 'contributors_enabled': False, 'is_translator': False, 'is_translation_enabled': False, 'profile_background_color': 'F5F8FA', 'profile_background_image_url': None, 'profile_background_image_url_https': None, 'profile_background_tile': False, 'profile_image_url': 'http://pbs.twimg.com/profile_images/1383088409476931586/_SCNLNsv_normal.jpg', 'profile_image_url_https': 'https://pbs.twimg.com/profile_images/1383088409476931586/_SCNLNsv_normal.jpg', 'profile_banner_url': 'https://pbs.twimg.com/profile_banners/1347759629380448257/1610166585', 'profile_link_color': '1DA1F2', 'profile_sidebar_border_color': 'C0DEED', 'profile_sidebar_fill_color': 'DDEEF6', 'profile_text_color': '333333', 'profile_use_background_image': True, 'has_extended_profile': True, 'default_profile': True, 'default_profile_image': False, 'following': None, 'follow_request_sent': None, 'notifications': None, 'translator_type': 'none', 'withheld_in_countries': []}, 'geo': None, 'coordinates': None, 'place': None, 'contributors': None, 'is_quote_status': False, 'retweet_count': 0, 'favorite_count': 0, 'favorited': False, 'retweeted': False, 'lang': 'th'}, created_at=datetime.datetime(2021, 5, 25, 5, 11, 54), id=1397057816397946881, id_str='1397057816397946881', text='คนเหี้ยอะไรเป็นโรคเเพ้ผู้หญิงยกเว้นเมียตัวเองวะ5555 ที่เเพ้นี่หมายถึงเเบบพออยู่ใกล้ผู้หญิงเเล้วจะอ้วก ไอ้สัด5555555555555', truncated=False, entities={'hashtags': [], 'symbols': [], 'user_mentions': [], 'urls': []}, metadata={'iso_language_code': 'th', 'result_type': 'recent'}, source='Twitter for iPhone', source_url='http://twitter.com/download/iphone', in_reply_to_status_id=None, in_reply_to_status_id_str=None, in_reply_to_user_id=None, in_reply_to_user_id_str=None, in_reply_to_screen_name=None, author=User(_api=<tweepy.api.API object at 0x0000012D50B98A90>, _json={'id': 1347759629380448257, 'id_str': '1347759629380448257', 'name': 'Polomayyymeee', 'screen_name': 'polomaymee', 'location': '', 'description': 'นอนนอนนอนนอนนอนนอน', 'url': None, 'entities': {'description': {'urls': []}}, 'protected': False, 'followers_count': 124, 'friends_count': 331, 'listed_count': 0, 'created_at': 'Sat Jan 09 04:18:57 +0000 2021', 'favourites_count': 96, 'utc_offset': None, 'time_zone': None, 'geo_enabled': False, 'verified': False, 'statuses_count': 2334, 'lang': None, 'contributors_enabled': False, 'is_translator': False, 'is_translation_enabled': False, 'profile_background_color': 'F5F8FA', 'profile_background_image_url': None, 'profile_background_image_url_https': None, 'profile_background_tile': False, 'profile_image_url': 'http://pbs.twimg.com/profile_images/1383088409476931586/_SCNLNsv_normal.jpg', 'profile_image_url_https': 'https://pbs.twimg.com/profile_images/1383088409476931586/_SCNLNsv_normal.jpg', 'profile_banner_url': 'https://pbs.twimg.com/profile_banners/1347759629380448257/1610166585', 'profile_link_color': '1DA1F2', 'profile_sidebar_border_color': 'C0DEED', 'profile_sidebar_fill_color': 'DDEEF6', 'profile_text_color': '333333', 'profile_use_background_image': True, 'has_extended_profile': True, 'default_profile': True, 'default_profile_image': False, 'following': None, 'follow_request_sent': None, 'notifications': None, 'translator_type': 'none', 'withheld_in_countries': []}, id=1347759629380448257, id_str='1347759629380448257', name='Polomayyymeee', screen_name='polomaymee', location='', description='นอนนอนนอนนอนนอนนอน', url=None, entities={'description': {'urls': []}}, protected=False, followers_count=124, friends_count=331, listed_count=0, created_at=datetime.datetime(2021, 1, 9, 4, 18, 57), favourites_count=96, utc_offset=None, time_zone=None, geo_enabled=False, verified=False, statuses_count=2334, lang=None, contributors_enabled=False, is_translator=False, is_translation_enabled=False, profile_background_color='F5F8FA', profile_background_image_url=None, profile_background_image_url_https=None, profile_background_tile=False, profile_image_url='http://pbs.twimg.com/profile_images/1383088409476931586/_SCNLNsv_normal.jpg', profile_image_url_https='https://pbs.twimg.com/profile_images/1383088409476931586/_SCNLNsv_normal.jpg', profile_banner_url='https://pbs.twimg.com/profile_banners/1347759629380448257/1610166585', profile_link_color='1DA1F2', profile_sidebar_border_color='C0DEED', profile_sidebar_fill_color='DDEEF6', profile_text_color='333333', profile_use_background_image=True, has_extended_profile=True, default_profile=True, default_profile_image=False, following=False, follow_request_sent=None, notifications=None, translator_type='none', withheld_in_countries=[]), user=User(_api=<tweepy.api.API object at 0x0000012D50B98A90>, _json={'id': 1347759629380448257, 'id_str': '1347759629380448257', 'name': 'Polomayyymeee', 'screen_name': 'polomaymee', 'location': '', 'description': 'นอนนอนนอนนอนนอนนอน', 'url': None, 'entities': {'description': {'urls': []}}, 'protected': False, 'followers_count': 124, 'friends_count': 331, 'listed_count': 0, 'created_at': 'Sat Jan 09 04:18:57 +0000 2021', 'favourites_count': 96, 'utc_offset': None, 'time_zone': None, 'geo_enabled': False, 'verified': False, 'statuses_count': 2334, 'lang': None, 'contributors_enabled': False, 'is_translator': False, 'is_translation_enabled': False, 'profile_background_color': 'F5F8FA', 'profile_background_image_url': None, 'profile_background_image_url_https': None, 'profile_background_tile': False, 'profile_image_url': 'http://pbs.twimg.com/profile_images/1383088409476931586/_SCNLNsv_normal.jpg', 'profile_image_url_https': 'https://pbs.twimg.com/profile_images/1383088409476931586/_SCNLNsv_normal.jpg', 'profile_banner_url': 'https://pbs.twimg.com/profile_banners/1347759629380448257/1610166585', 'profile_link_color': '1DA1F2', 'profile_sidebar_border_color': 'C0DEED', 'profile_sidebar_fill_color': 'DDEEF6', 'profile_text_color': '333333', 'profile_use_background_image': True, 'has_extended_profile': True, 'default_profile': True, 'default_profile_image': False, 'following': None, 'follow_request_sent': None, 'notifications': None, 'translator_type': 'none', 'withheld_in_countries': []}, id=1347759629380448257, id_str='1347759629380448257', name='Polomayyymeee', screen_name='polomaymee', location='', description='นอนนอนนอนนอนนอนนอน', url=None, entities={'description': {'urls': []}}, protected=False, followers_count=124, friends_count=331, listed_count=0, created_at=datetime.datetime(2021, 1, 9, 4, 18, 57), favourites_count=96, utc_offset=None, time_zone=None, geo_enabled=False, verified=False, statuses_count=2334, lang=None, contributors_enabled=False, is_translator=False, is_translation_enabled=False, profile_background_color='F5F8FA', profile_background_image_url=None, profile_background_image_url_https=None, profile_background_tile=False, profile_image_url='http://pbs.twimg.com/profile_images/1383088409476931586/_SCNLNsv_normal.jpg', profile_image_url_https='https://pbs.twimg.com/profile_images/1383088409476931586/_SCNLNsv_normal.jpg', profile_banner_url='https://pbs.twimg.com/profile_banners/1347759629380448257/1610166585', profile_link_color='1DA1F2', profile_sidebar_border_color='C0DEED', profile_sidebar_fill_color='DDEEF6', profile_text_color='333333', profile_use_background_image=True, has_extended_profile=True, default_profile=True, default_profile_image=False, following=False, follow_request_sent=None, notifications=None, translator_type='none', withheld_in_countries=[]), geo=None, coordinates=None, place=None, contributors=None, is_quote_status=False, retweet_count=0, favorite_count=0, favorited=False, retweeted=False, lang='th'), Status(_api=<tweepy.api.API object at 0x0000012D50B98A90>, _json={'created_at': 'Mon May 24 06:20:51 +0000 2021', 'id': 1396712782112849926, 'id_str': '1396712782112849926', 'text': '@BeeBee54545 @show_jung เเพ้ผู้หญิงให้เลียหี รักตายเลยได้แบบนี้', 'truncated': False, 'entities': {'hashtags': [], 'symbols': [], 'user_mentions': [{'screen_name': 'BeeBee54545', 'name': '☆ ♡BeeBee♡ ☆', 'id': 1340842377284489217, 'id_str': '1340842377284489217', 'indices': [0, 12]}, {'screen_name': 'show_jung', 'name': 'My dark side', 'id': 1295656370604085248, 'id_str': '1295656370604085248', 'indices': [13, 23]}], 'urls': []}, 'metadata': {'iso_language_code': 'th', 'result_type': 'recent'}, 'source': '<a href=\"https://mobile.twitter.com\" rel=\"nofollow\">Twitter Web App</a>', 'in_reply_to_status_id': 1354308931783258114, 'in_reply_to_status_id_str': '1354308931783258114', 'in_reply_to_user_id': 1340842377284489217, 'in_reply_to_user_id_str': '1340842377284489217', 'in_reply_to_screen_name': 'BeeBee54545', 'user': {'id': 1335536435626082304, 'id_str': '1335536435626082304', 'name': 'สงขลาแอบเเซ่บ', 'screen_name': 'QKrUNx3qXw2mPAO', 'location': '', 'description': 'ใครจะนัดส่งรูปน้องสาวมา\\nส่งรูปหน้ามา ไม่กล้าไม่ต้องทักครับ', 'url': None, 'entities': {'description': {'urls': []}}, 'protected': False, 'followers_count': 15, 'friends_count': 92, 'listed_count': 0, 'created_at': 'Sun Dec 06 10:48:43 +0000 2020', 'favourites_count': 262, 'utc_offset': None, 'time_zone': None, 'geo_enabled': False, 'verified': False, 'statuses_count': 102, 'lang': None, 'contributors_enabled': False, 'is_translator': False, 'is_translation_enabled': False, 'profile_background_color': 'F5F8FA', 'profile_background_image_url': None, 'profile_background_image_url_https': None, 'profile_background_tile': False, 'profile_image_url': 'http://pbs.twimg.com/profile_images/1392891482340663298/bxN7GEg9_normal.jpg', 'profile_image_url_https': 'https://pbs.twimg.com/profile_images/1392891482340663298/bxN7GEg9_normal.jpg', 'profile_banner_url': 'https://pbs.twimg.com/profile_banners/1335536435626082304/1620926186', 'profile_link_color': '1DA1F2', 'profile_sidebar_border_color': 'C0DEED', 'profile_sidebar_fill_color': 'DDEEF6', 'profile_text_color': '333333', 'profile_use_background_image': True, 'has_extended_profile': True, 'default_profile': True, 'default_profile_image': False, 'following': None, 'follow_request_sent': None, 'notifications': None, 'translator_type': 'none', 'withheld_in_countries': []}, 'geo': None, 'coordinates': None, 'place': None, 'contributors': None, 'is_quote_status': False, 'retweet_count': 0, 'favorite_count': 1, 'favorited': False, 'retweeted': False, 'lang': 'th'}, created_at=datetime.datetime(2021, 5, 24, 6, 20, 51), id=1396712782112849926, id_str='1396712782112849926', text='@BeeBee54545 @show_jung เเพ้ผู้หญิงให้เลียหี รักตายเลยได้แบบนี้', truncated=False, entities={'hashtags': [], 'symbols': [], 'user_mentions': [{'screen_name': 'BeeBee54545', 'name': '☆ ♡BeeBee♡ ☆', 'id': 1340842377284489217, 'id_str': '1340842377284489217', 'indices': [0, 12]}, {'screen_name': 'show_jung', 'name': 'My dark side', 'id': 1295656370604085248, 'id_str': '1295656370604085248', 'indices': [13, 23]}], 'urls': []}, metadata={'iso_language_code': 'th', 'result_type': 'recent'}, source='Twitter Web App', source_url='https://mobile.twitter.com', in_reply_to_status_id=1354308931783258114, in_reply_to_status_id_str='1354308931783258114', in_reply_to_user_id=1340842377284489217, in_reply_to_user_id_str='1340842377284489217', in_reply_to_screen_name='BeeBee54545', author=User(_api=<tweepy.api.API object at 0x0000012D50B98A90>, _json={'id': 1335536435626082304, 'id_str': '1335536435626082304', 'name': 'สงขลาแอบเเซ่บ', 'screen_name': 'QKrUNx3qXw2mPAO', 'location': '', 'description': 'ใครจะนัดส่งรูปน้องสาวมา\\nส่งรูปหน้ามา ไม่กล้าไม่ต้องทักครับ', 'url': None, 'entities': {'description': {'urls': []}}, 'protected': False, 'followers_count': 15, 'friends_count': 92, 'listed_count': 0, 'created_at': 'Sun Dec 06 10:48:43 +0000 2020', 'favourites_count': 262, 'utc_offset': None, 'time_zone': None, 'geo_enabled': False, 'verified': False, 'statuses_count': 102, 'lang': None, 'contributors_enabled': False, 'is_translator': False, 'is_translation_enabled': False, 'profile_background_color': 'F5F8FA', 'profile_background_image_url': None, 'profile_background_image_url_https': None, 'profile_background_tile': False, 'profile_image_url': 'http://pbs.twimg.com/profile_images/1392891482340663298/bxN7GEg9_normal.jpg', 'profile_image_url_https': 'https://pbs.twimg.com/profile_images/1392891482340663298/bxN7GEg9_normal.jpg', 'profile_banner_url': 'https://pbs.twimg.com/profile_banners/1335536435626082304/1620926186', 'profile_link_color': '1DA1F2', 'profile_sidebar_border_color': 'C0DEED', 'profile_sidebar_fill_color': 'DDEEF6', 'profile_text_color': '333333', 'profile_use_background_image': True, 'has_extended_profile': True, 'default_profile': True, 'default_profile_image': False, 'following': None, 'follow_request_sent': None, 'notifications': None, 'translator_type': 'none', 'withheld_in_countries': []}, id=1335536435626082304, id_str='1335536435626082304', name='สงขลาแอบเเซ่บ', screen_name='QKrUNx3qXw2mPAO', location='', description='ใครจะนัดส่งรูปน้องสาวมา\\nส่งรูปหน้ามา ไม่กล้าไม่ต้องทักครับ', url=None, entities={'description': {'urls': []}}, protected=False, followers_count=15, friends_count=92, listed_count=0, created_at=datetime.datetime(2020, 12, 6, 10, 48, 43), favourites_count=262, utc_offset=None, time_zone=None, geo_enabled=False, verified=False, statuses_count=102, lang=None, contributors_enabled=False, is_translator=False, is_translation_enabled=False, profile_background_color='F5F8FA', profile_background_image_url=None, profile_background_image_url_https=None, profile_background_tile=False, profile_image_url='http://pbs.twimg.com/profile_images/1392891482340663298/bxN7GEg9_normal.jpg', profile_image_url_https='https://pbs.twimg.com/profile_images/1392891482340663298/bxN7GEg9_normal.jpg', profile_banner_url='https://pbs.twimg.com/profile_banners/1335536435626082304/1620926186', profile_link_color='1DA1F2', profile_sidebar_border_color='C0DEED', profile_sidebar_fill_color='DDEEF6', profile_text_color='333333', profile_use_background_image=True, has_extended_profile=True, default_profile=True, default_profile_image=False, following=False, follow_request_sent=None, notifications=None, translator_type='none', withheld_in_countries=[]), user=User(_api=<tweepy.api.API object at 0x0000012D50B98A90>, _json={'id': 1335536435626082304, 'id_str': '1335536435626082304', 'name': 'สงขลาแอบเเซ่บ', 'screen_name': 'QKrUNx3qXw2mPAO', 'location': '', 'description': 'ใครจะนัดส่งรูปน้องสาวมา\\nส่งรูปหน้ามา ไม่กล้าไม่ต้องทักครับ', 'url': None, 'entities': {'description': {'urls': []}}, 'protected': False, 'followers_count': 15, 'friends_count': 92, 'listed_count': 0, 'created_at': 'Sun Dec 06 10:48:43 +0000 2020', 'favourites_count': 262, 'utc_offset': None, 'time_zone': None, 'geo_enabled': False, 'verified': False, 'statuses_count': 102, 'lang': None, 'contributors_enabled': False, 'is_translator': False, 'is_translation_enabled': False, 'profile_background_color': 'F5F8FA', 'profile_background_image_url': None, 'profile_background_image_url_https': None, 'profile_background_tile': False, 'profile_image_url': 'http://pbs.twimg.com/profile_images/1392891482340663298/bxN7GEg9_normal.jpg', 'profile_image_url_https': 'https://pbs.twimg.com/profile_images/1392891482340663298/bxN7GEg9_normal.jpg', 'profile_banner_url': 'https://pbs.twimg.com/profile_banners/1335536435626082304/1620926186', 'profile_link_color': '1DA1F2', 'profile_sidebar_border_color': 'C0DEED', 'profile_sidebar_fill_color': 'DDEEF6', 'profile_text_color': '333333', 'profile_use_background_image': True, 'has_extended_profile': True, 'default_profile': True, 'default_profile_image': False, 'following': None, 'follow_request_sent': None, 'notifications': None, 'translator_type': 'none', 'withheld_in_countries': []}, id=1335536435626082304, id_str='1335536435626082304', name='สงขลาแอบเเซ่บ', screen_name='QKrUNx3qXw2mPAO', location='', description='ใครจะนัดส่งรูปน้องสาวมา\\nส่งรูปหน้ามา ไม่กล้าไม่ต้องทักครับ', url=None, entities={'description': {'urls': []}}, protected=False, followers_count=15, friends_count=92, listed_count=0, created_at=datetime.datetime(2020, 12, 6, 10, 48, 43), favourites_count=262, utc_offset=None, time_zone=None, geo_enabled=False, verified=False, statuses_count=102, lang=None, contributors_enabled=False, is_translator=False, is_translation_enabled=False, profile_background_color='F5F8FA', profile_background_image_url=None, profile_background_image_url_https=None, profile_background_tile=False, profile_image_url='http://pbs.twimg.com/profile_images/1392891482340663298/bxN7GEg9_normal.jpg', profile_image_url_https='https://pbs.twimg.com/profile_images/1392891482340663298/bxN7GEg9_normal.jpg', profile_banner_url='https://pbs.twimg.com/profile_banners/1335536435626082304/1620926186', profile_link_color='1DA1F2', profile_sidebar_border_color='C0DEED', profile_sidebar_fill_color='DDEEF6', profile_text_color='333333', profile_use_background_image=True, has_extended_profile=True, default_profile=True, default_profile_image=False, following=False, follow_request_sent=None, notifications=None, translator_type='none', withheld_in_countries=[]), geo=None, coordinates=None, place=None, contributors=None, is_quote_status=False, retweet_count=0, favorite_count=1, favorited=False, retweeted=False, lang='th'), Status(_api=<tweepy.api.API object at 0x0000012D50B98A90>, _json={'created_at': 'Sun May 23 05:11:12 +0000 2021', 'id': 1396332865109905409, 'id_str': '1396332865109905409', 'text': 'โคตรเเพ้ผู้หญิงเเบบคุณตั้งใจเลยอะ น่ารักไปหมด', 'truncated': False, 'entities': {'hashtags': [], 'symbols': [], 'user_mentions': [], 'urls': []}, 'metadata': {'iso_language_code': 'th', 'result_type': 'recent'}, 'source': '<a href=\"http://twitter.com/download/android\" rel=\"nofollow\">Twitter for Android</a>', 'in_reply_to_status_id': None, 'in_reply_to_status_id_str': None, 'in_reply_to_user_id': None, 'in_reply_to_user_id_str': None, 'in_reply_to_screen_name': None, 'user': {'id': 1391276334773510145, 'id_str': '1391276334773510145', 'name': ',', 'screen_name': 'somaanmhok', 'location': '24/7', 'description': 'อยากมีเเฟนเเล้วสักที', 'url': 'https://t.co/lu6l0YLDcX', 'entities': {'url': {'urls': [{'url': 'https://t.co/lu6l0YLDcX', 'expanded_url': 'https://youtu.be/F7Ry1fx8L7k', 'display_url': 'youtu.be/F7Ry1fx8L7k', 'indices': [0, 23]}]}, 'description': {'urls': []}}, 'protected': False, 'followers_count': 423, 'friends_count': 409, 'listed_count': 2, 'created_at': 'Sun May 09 06:18:47 +0000 2021', 'favourites_count': 1427, 'utc_offset': None, 'time_zone': None, 'geo_enabled': False, 'verified': False, 'statuses_count': 4426, 'lang': None, 'contributors_enabled': False, 'is_translator': False, 'is_translation_enabled': False, 'profile_background_color': 'F5F8FA', 'profile_background_image_url': None, 'profile_background_image_url_https': None, 'profile_background_tile': False, 'profile_image_url': 'http://pbs.twimg.com/profile_images/1394107260096237571/BGwd66gz_normal.jpg', 'profile_image_url_https': 'https://pbs.twimg.com/profile_images/1394107260096237571/BGwd66gz_normal.jpg', 'profile_banner_url': 'https://pbs.twimg.com/profile_banners/1391276334773510145/1622108262', 'profile_link_color': '1DA1F2', 'profile_sidebar_border_color': 'C0DEED', 'profile_sidebar_fill_color': 'DDEEF6', 'profile_text_color': '333333', 'profile_use_background_image': True, 'has_extended_profile': True, 'default_profile': True, 'default_profile_image': False, 'following': None, 'follow_request_sent': None, 'notifications': None, 'translator_type': 'none', 'withheld_in_countries': []}, 'geo': None, 'coordinates': None, 'place': None, 'contributors': None, 'is_quote_status': False, 'retweet_count': 0, 'favorite_count': 0, 'favorited': False, 'retweeted': False, 'lang': 'th'}, created_at=datetime.datetime(2021, 5, 23, 5, 11, 12), id=1396332865109905409, id_str='1396332865109905409', text='โคตรเเพ้ผู้หญิงเเบบคุณตั้งใจเลยอะ น่ารักไปหมด', truncated=False, entities={'hashtags': [], 'symbols': [], 'user_mentions': [], 'urls': []}, metadata={'iso_language_code': 'th', 'result_type': 'recent'}, source='Twitter for Android', source_url='http://twitter.com/download/android', in_reply_to_status_id=None, in_reply_to_status_id_str=None, in_reply_to_user_id=None, in_reply_to_user_id_str=None, in_reply_to_screen_name=None, author=User(_api=<tweepy.api.API object at 0x0000012D50B98A90>, _json={'id': 1391276334773510145, 'id_str': '1391276334773510145', 'name': ',', 'screen_name': 'somaanmhok', 'location': '24/7', 'description': 'อยากมีเเฟนเเล้วสักที', 'url': 'https://t.co/lu6l0YLDcX', 'entities': {'url': {'urls': [{'url': 'https://t.co/lu6l0YLDcX', 'expanded_url': 'https://youtu.be/F7Ry1fx8L7k', 'display_url': 'youtu.be/F7Ry1fx8L7k', 'indices': [0, 23]}]}, 'description': {'urls': []}}, 'protected': False, 'followers_count': 423, 'friends_count': 409, 'listed_count': 2, 'created_at': 'Sun May 09 06:18:47 +0000 2021', 'favourites_count': 1427, 'utc_offset': None, 'time_zone': None, 'geo_enabled': False, 'verified': False, 'statuses_count': 4426, 'lang': None, 'contributors_enabled': False, 'is_translator': False, 'is_translation_enabled': False, 'profile_background_color': 'F5F8FA', 'profile_background_image_url': None, 'profile_background_image_url_https': None, 'profile_background_tile': False, 'profile_image_url': 'http://pbs.twimg.com/profile_images/1394107260096237571/BGwd66gz_normal.jpg', 'profile_image_url_https': 'https://pbs.twimg.com/profile_images/1394107260096237571/BGwd66gz_normal.jpg', 'profile_banner_url': 'https://pbs.twimg.com/profile_banners/1391276334773510145/1622108262', 'profile_link_color': '1DA1F2', 'profile_sidebar_border_color': 'C0DEED', 'profile_sidebar_fill_color': 'DDEEF6', 'profile_text_color': '333333', 'profile_use_background_image': True, 'has_extended_profile': True, 'default_profile': True, 'default_profile_image': False, 'following': None, 'follow_request_sent': None, 'notifications': None, 'translator_type': 'none', 'withheld_in_countries': []}, id=1391276334773510145, id_str='1391276334773510145', name=',', screen_name='somaanmhok', location='24/7', description='อยากมีเเฟนเเล้วสักที', url='https://t.co/lu6l0YLDcX', entities={'url': {'urls': [{'url': 'https://t.co/lu6l0YLDcX', 'expanded_url': 'https://youtu.be/F7Ry1fx8L7k', 'display_url': 'youtu.be/F7Ry1fx8L7k', 'indices': [0, 23]}]}, 'description': {'urls': []}}, protected=False, followers_count=423, friends_count=409, listed_count=2, created_at=datetime.datetime(2021, 5, 9, 6, 18, 47), favourites_count=1427, utc_offset=None, time_zone=None, geo_enabled=False, verified=False, statuses_count=4426, lang=None, contributors_enabled=False, is_translator=False, is_translation_enabled=False, profile_background_color='F5F8FA', profile_background_image_url=None, profile_background_image_url_https=None, profile_background_tile=False, profile_image_url='http://pbs.twimg.com/profile_images/1394107260096237571/BGwd66gz_normal.jpg', profile_image_url_https='https://pbs.twimg.com/profile_images/1394107260096237571/BGwd66gz_normal.jpg', profile_banner_url='https://pbs.twimg.com/profile_banners/1391276334773510145/1622108262', profile_link_color='1DA1F2', profile_sidebar_border_color='C0DEED', profile_sidebar_fill_color='DDEEF6', profile_text_color='333333', profile_use_background_image=True, has_extended_profile=True, default_profile=True, default_profile_image=False, following=False, follow_request_sent=None, notifications=None, translator_type='none', withheld_in_countries=[]), user=User(_api=<tweepy.api.API object at 0x0000012D50B98A90>, _json={'id': 1391276334773510145, 'id_str': '1391276334773510145', 'name': ',', 'screen_name': 'somaanmhok', 'location': '24/7', 'description': 'อยากมีเเฟนเเล้วสักที', 'url': 'https://t.co/lu6l0YLDcX', 'entities': {'url': {'urls': [{'url': 'https://t.co/lu6l0YLDcX', 'expanded_url': 'https://youtu.be/F7Ry1fx8L7k', 'display_url': 'youtu.be/F7Ry1fx8L7k', 'indices': [0, 23]}]}, 'description': {'urls': []}}, 'protected': False, 'followers_count': 423, 'friends_count': 409, 'listed_count': 2, 'created_at': 'Sun May 09 06:18:47 +0000 2021', 'favourites_count': 1427, 'utc_offset': None, 'time_zone': None, 'geo_enabled': False, 'verified': False, 'statuses_count': 4426, 'lang': None, 'contributors_enabled': False, 'is_translator': False, 'is_translation_enabled': False, 'profile_background_color': 'F5F8FA', 'profile_background_image_url': None, 'profile_background_image_url_https': None, 'profile_background_tile': False, 'profile_image_url': 'http://pbs.twimg.com/profile_images/1394107260096237571/BGwd66gz_normal.jpg', 'profile_image_url_https': 'https://pbs.twimg.com/profile_images/1394107260096237571/BGwd66gz_normal.jpg', 'profile_banner_url': 'https://pbs.twimg.com/profile_banners/1391276334773510145/1622108262', 'profile_link_color': '1DA1F2', 'profile_sidebar_border_color': 'C0DEED', 'profile_sidebar_fill_color': 'DDEEF6', 'profile_text_color': '333333', 'profile_use_background_image': True, 'has_extended_profile': True, 'default_profile': True, 'default_profile_image': False, 'following': None, 'follow_request_sent': None, 'notifications': None, 'translator_type': 'none', 'withheld_in_countries': []}, id=1391276334773510145, id_str='1391276334773510145', name=',', screen_name='somaanmhok', location='24/7', description='อยากมีเเฟนเเล้วสักที', url='https://t.co/lu6l0YLDcX', entities={'url': {'urls': [{'url': 'https://t.co/lu6l0YLDcX', 'expanded_url': 'https://youtu.be/F7Ry1fx8L7k', 'display_url': 'youtu.be/F7Ry1fx8L7k', 'indices': [0, 23]}]}, 'description': {'urls': []}}, protected=False, followers_count=423, friends_count=409, listed_count=2, created_at=datetime.datetime(2021, 5, 9, 6, 18, 47), favourites_count=1427, utc_offset=None, time_zone=None, geo_enabled=False, verified=False, statuses_count=4426, lang=None, contributors_enabled=False, is_translator=False, is_translation_enabled=False, profile_background_color='F5F8FA', profile_background_image_url=None, profile_background_image_url_https=None, profile_background_tile=False, profile_image_url='http://pbs.twimg.com/profile_images/1394107260096237571/BGwd66gz_normal.jpg', profile_image_url_https='https://pbs.twimg.com/profile_images/1394107260096237571/BGwd66gz_normal.jpg', profile_banner_url='https://pbs.twimg.com/profile_banners/1391276334773510145/1622108262', profile_link_color='1DA1F2', profile_sidebar_border_color='C0DEED', profile_sidebar_fill_color='DDEEF6', profile_text_color='333333', profile_use_background_image=True, has_extended_profile=True, default_profile=True, default_profile_image=False, following=False, follow_request_sent=None, notifications=None, translator_type='none', withheld_in_countries=[]), geo=None, coordinates=None, place=None, contributors=None, is_quote_status=False, retweet_count=0, favorite_count=0, favorited=False, retweeted=False, lang='th'), Status(_api=<tweepy.api.API object at 0x0000012D50B98A90>, _json={'created_at': 'Tue May 25 05:11:54 +0000 2021', 'id': 1397057816397946881, 'id_str': '1397057816397946881', 'text': 'คนเหี้ยอะไรเป็นโรคเเพ้ผู้หญิงยกเว้นเมียตัวเองวะ5555 ที่เเพ้นี่หมายถึงเเบบพออยู่ใกล้ผู้หญิงเเล้วจะอ้วก ไอ้สัด5555555555555', 'truncated': False, 'entities': {'hashtags': [], 'symbols': [], 'user_mentions': [], 'urls': []}, 'metadata': {'iso_language_code': 'th', 'result_type': 'recent'}, 'source': '<a href=\"http://twitter.com/download/iphone\" rel=\"nofollow\">Twitter for iPhone</a>', 'in_reply_to_status_id': None, 'in_reply_to_status_id_str': None, 'in_reply_to_user_id': None, 'in_reply_to_user_id_str': None, 'in_reply_to_screen_name': None, 'user': {'id': 1347759629380448257, 'id_str': '1347759629380448257', 'name': 'Polomayyymeee', 'screen_name': 'polomaymee', 'location': '', 'description': 'นอนนอนนอนนอนนอนนอน', 'url': None, 'entities': {'description': {'urls': []}}, 'protected': False, 'followers_count': 124, 'friends_count': 331, 'listed_count': 0, 'created_at': 'Sat Jan 09 04:18:57 +0000 2021', 'favourites_count': 96, 'utc_offset': None, 'time_zone': None, 'geo_enabled': False, 'verified': False, 'statuses_count': 2334, 'lang': None, 'contributors_enabled': False, 'is_translator': False, 'is_translation_enabled': False, 'profile_background_color': 'F5F8FA', 'profile_background_image_url': None, 'profile_background_image_url_https': None, 'profile_background_tile': False, 'profile_image_url': 'http://pbs.twimg.com/profile_images/1383088409476931586/_SCNLNsv_normal.jpg', 'profile_image_url_https': 'https://pbs.twimg.com/profile_images/1383088409476931586/_SCNLNsv_normal.jpg', 'profile_banner_url': 'https://pbs.twimg.com/profile_banners/1347759629380448257/1610166585', 'profile_link_color': '1DA1F2', 'profile_sidebar_border_color': 'C0DEED', 'profile_sidebar_fill_color': 'DDEEF6', 'profile_text_color': '333333', 'profile_use_background_image': True, 'has_extended_profile': True, 'default_profile': True, 'default_profile_image': False, 'following': None, 'follow_request_sent': None, 'notifications': None, 'translator_type': 'none', 'withheld_in_countries': []}, 'geo': None, 'coordinates': None, 'place': None, 'contributors': None, 'is_quote_status': False, 'retweet_count': 0, 'favorite_count': 0, 'favorited': False, 'retweeted': False, 'lang': 'th'}, created_at=datetime.datetime(2021, 5, 25, 5, 11, 54), id=1397057816397946881, id_str='1397057816397946881', text='คนเหี้ยอะไรเป็นโรคเเพ้ผู้หญิงยกเว้นเมียตัวเองวะ5555 ที่เเพ้นี่หมายถึงเเบบพออยู่ใกล้ผู้หญิงเเล้วจะอ้วก ไอ้สัด5555555555555', truncated=False, entities={'hashtags': [], 'symbols': [], 'user_mentions': [], 'urls': []}, metadata={'iso_language_code': 'th', 'result_type': 'recent'}, source='Twitter for iPhone', source_url='http://twitter.com/download/iphone', in_reply_to_status_id=None, in_reply_to_status_id_str=None, in_reply_to_user_id=None, in_reply_to_user_id_str=None, in_reply_to_screen_name=None, author=User(_api=<tweepy.api.API object at 0x0000012D50B98A90>, _json={'id': 1347759629380448257, 'id_str': '1347759629380448257', 'name': 'Polomayyymeee', 'screen_name': 'polomaymee', 'location': '', 'description': 'นอนนอนนอนนอนนอนนอน', 'url': None, 'entities': {'description': {'urls': []}}, 'protected': False, 'followers_count': 124, 'friends_count': 331, 'listed_count': 0, 'created_at': 'Sat Jan 09 04:18:57 +0000 2021', 'favourites_count': 96, 'utc_offset': None, 'time_zone': None, 'geo_enabled': False, 'verified': False, 'statuses_count': 2334, 'lang': None, 'contributors_enabled': False, 'is_translator': False, 'is_translation_enabled': False, 'profile_background_color': 'F5F8FA', 'profile_background_image_url': None, 'profile_background_image_url_https': None, 'profile_background_tile': False, 'profile_image_url': 'http://pbs.twimg.com/profile_images/1383088409476931586/_SCNLNsv_normal.jpg', 'profile_image_url_https': 'https://pbs.twimg.com/profile_images/1383088409476931586/_SCNLNsv_normal.jpg', 'profile_banner_url': 'https://pbs.twimg.com/profile_banners/1347759629380448257/1610166585', 'profile_link_color': '1DA1F2', 'profile_sidebar_border_color': 'C0DEED', 'profile_sidebar_fill_color': 'DDEEF6', 'profile_text_color': '333333', 'profile_use_background_image': True, 'has_extended_profile': True, 'default_profile': True, 'default_profile_image': False, 'following': None, 'follow_request_sent': None, 'notifications': None, 'translator_type': 'none', 'withheld_in_countries': []}, id=1347759629380448257, id_str='1347759629380448257', name='Polomayyymeee', screen_name='polomaymee', location='', description='นอนนอนนอนนอนนอนนอน', url=None, entities={'description': {'urls': []}}, protected=False, followers_count=124, friends_count=331, listed_count=0, created_at=datetime.datetime(2021, 1, 9, 4, 18, 57), favourites_count=96, utc_offset=None, time_zone=None, geo_enabled=False, verified=False, statuses_count=2334, lang=None, contributors_enabled=False, is_translator=False, is_translation_enabled=False, profile_background_color='F5F8FA', profile_background_image_url=None, profile_background_image_url_https=None, profile_background_tile=False, profile_image_url='http://pbs.twimg.com/profile_images/1383088409476931586/_SCNLNsv_normal.jpg', profile_image_url_https='https://pbs.twimg.com/profile_images/1383088409476931586/_SCNLNsv_normal.jpg', profile_banner_url='https://pbs.twimg.com/profile_banners/1347759629380448257/1610166585', profile_link_color='1DA1F2', profile_sidebar_border_color='C0DEED', profile_sidebar_fill_color='DDEEF6', profile_text_color='333333', profile_use_background_image=True, has_extended_profile=True, default_profile=True, default_profile_image=False, following=False, follow_request_sent=None, notifications=None, translator_type='none', withheld_in_countries=[]), user=User(_api=<tweepy.api.API object at 0x0000012D50B98A90>, _json={'id': 1347759629380448257, 'id_str': '1347759629380448257', 'name': 'Polomayyymeee', 'screen_name': 'polomaymee', 'location': '', 'description': 'นอนนอนนอนนอนนอนนอน', 'url': None, 'entities': {'description': {'urls': []}}, 'protected': False, 'followers_count': 124, 'friends_count': 331, 'listed_count': 0, 'created_at': 'Sat Jan 09 04:18:57 +0000 2021', 'favourites_count': 96, 'utc_offset': None, 'time_zone': None, 'geo_enabled': False, 'verified': False, 'statuses_count': 2334, 'lang': None, 'contributors_enabled': False, 'is_translator': False, 'is_translation_enabled': False, 'profile_background_color': 'F5F8FA', 'profile_background_image_url': None, 'profile_background_image_url_https': None, 'profile_background_tile': False, 'profile_image_url': 'http://pbs.twimg.com/profile_images/1383088409476931586/_SCNLNsv_normal.jpg', 'profile_image_url_https': 'https://pbs.twimg.com/profile_images/1383088409476931586/_SCNLNsv_normal.jpg', 'profile_banner_url': 'https://pbs.twimg.com/profile_banners/1347759629380448257/1610166585', 'profile_link_color': '1DA1F2', 'profile_sidebar_border_color': 'C0DEED', 'profile_sidebar_fill_color': 'DDEEF6', 'profile_text_color': '333333', 'profile_use_background_image': True, 'has_extended_profile': True, 'default_profile': True, 'default_profile_image': False, 'following': None, 'follow_request_sent': None, 'notifications': None, 'translator_type': 'none', 'withheld_in_countries': []}, id=1347759629380448257, id_str='1347759629380448257', name='Polomayyymeee', screen_name='polomaymee', location='', description='นอนนอนนอนนอนนอนนอน', url=None, entities={'description': {'urls': []}}, protected=False, followers_count=124, friends_count=331, listed_count=0, created_at=datetime.datetime(2021, 1, 9, 4, 18, 57), favourites_count=96, utc_offset=None, time_zone=None, geo_enabled=False, verified=False, statuses_count=2334, lang=None, contributors_enabled=False, is_translator=False, is_translation_enabled=False, profile_background_color='F5F8FA', profile_background_image_url=None, profile_background_image_url_https=None, profile_background_tile=False, profile_image_url='http://pbs.twimg.com/profile_images/1383088409476931586/_SCNLNsv_normal.jpg', profile_image_url_https='https://pbs.twimg.com/profile_images/1383088409476931586/_SCNLNsv_normal.jpg', profile_banner_url='https://pbs.twimg.com/profile_banners/1347759629380448257/1610166585', profile_link_color='1DA1F2', profile_sidebar_border_color='C0DEED', profile_sidebar_fill_color='DDEEF6', profile_text_color='333333', profile_use_background_image=True, has_extended_profile=True, default_profile=True, default_profile_image=False, following=False, follow_request_sent=None, notifications=None, translator_type='none', withheld_in_countries=[]), geo=None, coordinates=None, place=None, contributors=None, is_quote_status=False, retweet_count=0, favorite_count=0, favorited=False, retweeted=False, lang='th'), Status(_api=<tweepy.api.API object at 0x0000012D50B98A90>, _json={'created_at': 'Sun May 23 05:11:12 +0000 2021', 'id': 1396332865109905409, 'id_str': '1396332865109905409', 'text': 'โคตรเเพ้ผู้หญิงเเบบคุณตั้งใจเลยอะ น่ารักไปหมด', 'truncated': False, 'entities': {'hashtags': [], 'symbols': [], 'user_mentions': [], 'urls': []}, 'metadata': {'iso_language_code': 'th', 'result_type': 'recent'}, 'source': '<a href=\"http://twitter.com/download/android\" rel=\"nofollow\">Twitter for Android</a>', 'in_reply_to_status_id': None, 'in_reply_to_status_id_str': None, 'in_reply_to_user_id': None, 'in_reply_to_user_id_str': None, 'in_reply_to_screen_name': None, 'user': {'id': 1391276334773510145, 'id_str': '1391276334773510145', 'name': ',', 'screen_name': 'somaanmhok', 'location': '24/7', 'description': 'อยากมีเเฟนเเล้วสักที', 'url': 'https://t.co/lu6l0YLDcX', 'entities': {'url': {'urls': [{'url': 'https://t.co/lu6l0YLDcX', 'expanded_url': 'https://youtu.be/F7Ry1fx8L7k', 'display_url': 'youtu.be/F7Ry1fx8L7k', 'indices': [0, 23]}]}, 'description': {'urls': []}}, 'protected': False, 'followers_count': 423, 'friends_count': 409, 'listed_count': 2, 'created_at': 'Sun May 09 06:18:47 +0000 2021', 'favourites_count': 1427, 'utc_offset': None, 'time_zone': None, 'geo_enabled': False, 'verified': False, 'statuses_count': 4426, 'lang': None, 'contributors_enabled': False, 'is_translator': False, 'is_translation_enabled': False, 'profile_background_color': 'F5F8FA', 'profile_background_image_url': None, 'profile_background_image_url_https': None, 'profile_background_tile': False, 'profile_image_url': 'http://pbs.twimg.com/profile_images/1394107260096237571/BGwd66gz_normal.jpg', 'profile_image_url_https': 'https://pbs.twimg.com/profile_images/1394107260096237571/BGwd66gz_normal.jpg', 'profile_banner_url': 'https://pbs.twimg.com/profile_banners/1391276334773510145/1622108262', 'profile_link_color': '1DA1F2', 'profile_sidebar_border_color': 'C0DEED', 'profile_sidebar_fill_color': 'DDEEF6', 'profile_text_color': '333333', 'profile_use_background_image': True, 'has_extended_profile': True, 'default_profile': True, 'default_profile_image': False, 'following': None, 'follow_request_sent': None, 'notifications': None, 'translator_type': 'none', 'withheld_in_countries': []}, 'geo': None, 'coordinates': None, 'place': None, 'contributors': None, 'is_quote_status': False, 'retweet_count': 0, 'favorite_count': 0, 'favorited': False, 'retweeted': False, 'lang': 'th'}, created_at=datetime.datetime(2021, 5, 23, 5, 11, 12), id=1396332865109905409, id_str='1396332865109905409', text='โคตรเเพ้ผู้หญิงเเบบคุณตั้งใจเลยอะ น่ารักไปหมด', truncated=False, entities={'hashtags': [], 'symbols': [], 'user_mentions': [], 'urls': []}, metadata={'iso_language_code': 'th', 'result_type': 'recent'}, source='Twitter for Android', source_url='http://twitter.com/download/android', in_reply_to_status_id=None, in_reply_to_status_id_str=None, in_reply_to_user_id=None, in_reply_to_user_id_str=None, in_reply_to_screen_name=None, author=User(_api=<tweepy.api.API object at 0x0000012D50B98A90>, _json={'id': 1391276334773510145, 'id_str': '1391276334773510145', 'name': ',', 'screen_name': 'somaanmhok', 'location': '24/7', 'description': 'อยากมีเเฟนเเล้วสักที', 'url': 'https://t.co/lu6l0YLDcX', 'entities': {'url': {'urls': [{'url': 'https://t.co/lu6l0YLDcX', 'expanded_url': 'https://youtu.be/F7Ry1fx8L7k', 'display_url': 'youtu.be/F7Ry1fx8L7k', 'indices': [0, 23]}]}, 'description': {'urls': []}}, 'protected': False, 'followers_count': 423, 'friends_count': 409, 'listed_count': 2, 'created_at': 'Sun May 09 06:18:47 +0000 2021', 'favourites_count': 1427, 'utc_offset': None, 'time_zone': None, 'geo_enabled': False, 'verified': False, 'statuses_count': 4426, 'lang': None, 'contributors_enabled': False, 'is_translator': False, 'is_translation_enabled': False, 'profile_background_color': 'F5F8FA', 'profile_background_image_url': None, 'profile_background_image_url_https': None, 'profile_background_tile': False, 'profile_image_url': 'http://pbs.twimg.com/profile_images/1394107260096237571/BGwd66gz_normal.jpg', 'profile_image_url_https': 'https://pbs.twimg.com/profile_images/1394107260096237571/BGwd66gz_normal.jpg', 'profile_banner_url': 'https://pbs.twimg.com/profile_banners/1391276334773510145/1622108262', 'profile_link_color': '1DA1F2', 'profile_sidebar_border_color': 'C0DEED', 'profile_sidebar_fill_color': 'DDEEF6', 'profile_text_color': '333333', 'profile_use_background_image': True, 'has_extended_profile': True, 'default_profile': True, 'default_profile_image': False, 'following': None, 'follow_request_sent': None, 'notifications': None, 'translator_type': 'none', 'withheld_in_countries': []}, id=1391276334773510145, id_str='1391276334773510145', name=',', screen_name='somaanmhok', location='24/7', description='อยากมีเเฟนเเล้วสักที', url='https://t.co/lu6l0YLDcX', entities={'url': {'urls': [{'url': 'https://t.co/lu6l0YLDcX', 'expanded_url': 'https://youtu.be/F7Ry1fx8L7k', 'display_url': 'youtu.be/F7Ry1fx8L7k', 'indices': [0, 23]}]}, 'description': {'urls': []}}, protected=False, followers_count=423, friends_count=409, listed_count=2, created_at=datetime.datetime(2021, 5, 9, 6, 18, 47), favourites_count=1427, utc_offset=None, time_zone=None, geo_enabled=False, verified=False, statuses_count=4426, lang=None, contributors_enabled=False, is_translator=False, is_translation_enabled=False, profile_background_color='F5F8FA', profile_background_image_url=None, profile_background_image_url_https=None, profile_background_tile=False, profile_image_url='http://pbs.twimg.com/profile_images/1394107260096237571/BGwd66gz_normal.jpg', profile_image_url_https='https://pbs.twimg.com/profile_images/1394107260096237571/BGwd66gz_normal.jpg', profile_banner_url='https://pbs.twimg.com/profile_banners/1391276334773510145/1622108262', profile_link_color='1DA1F2', profile_sidebar_border_color='C0DEED', profile_sidebar_fill_color='DDEEF6', profile_text_color='333333', profile_use_background_image=True, has_extended_profile=True, default_profile=True, default_profile_image=False, following=False, follow_request_sent=None, notifications=None, translator_type='none', withheld_in_countries=[]), user=User(_api=<tweepy.api.API object at 0x0000012D50B98A90>, _json={'id': 1391276334773510145, 'id_str': '1391276334773510145', 'name': ',', 'screen_name': 'somaanmhok', 'location': '24/7', 'description': 'อยากมีเเฟนเเล้วสักที', 'url': 'https://t.co/lu6l0YLDcX', 'entities': {'url': {'urls': [{'url': 'https://t.co/lu6l0YLDcX', 'expanded_url': 'https://youtu.be/F7Ry1fx8L7k', 'display_url': 'youtu.be/F7Ry1fx8L7k', 'indices': [0, 23]}]}, 'description': {'urls': []}}, 'protected': False, 'followers_count': 423, 'friends_count': 409, 'listed_count': 2, 'created_at': 'Sun May 09 06:18:47 +0000 2021', 'favourites_count': 1427, 'utc_offset': None, 'time_zone': None, 'geo_enabled': False, 'verified': False, 'statuses_count': 4426, 'lang': None, 'contributors_enabled': False, 'is_translator': False, 'is_translation_enabled': False, 'profile_background_color': 'F5F8FA', 'profile_background_image_url': None, 'profile_background_image_url_https': None, 'profile_background_tile': False, 'profile_image_url': 'http://pbs.twimg.com/profile_images/1394107260096237571/BGwd66gz_normal.jpg', 'profile_image_url_https': 'https://pbs.twimg.com/profile_images/1394107260096237571/BGwd66gz_normal.jpg', 'profile_banner_url': 'https://pbs.twimg.com/profile_banners/1391276334773510145/1622108262', 'profile_link_color': '1DA1F2', 'profile_sidebar_border_color': 'C0DEED', 'profile_sidebar_fill_color': 'DDEEF6', 'profile_text_color': '333333', 'profile_use_background_image': True, 'has_extended_profile': True, 'default_profile': True, 'default_profile_image': False, 'following': None, 'follow_request_sent': None, 'notifications': None, 'translator_type': 'none', 'withheld_in_countries': []}, id=1391276334773510145, id_str='1391276334773510145', name=',', screen_name='somaanmhok', location='24/7', description='อยากมีเเฟนเเล้วสักที', url='https://t.co/lu6l0YLDcX', entities={'url': {'urls': [{'url': 'https://t.co/lu6l0YLDcX', 'expanded_url': 'https://youtu.be/F7Ry1fx8L7k', 'display_url': 'youtu.be/F7Ry1fx8L7k', 'indices': [0, 23]}]}, 'description': {'urls': []}}, protected=False, followers_count=423, friends_count=409, listed_count=2, created_at=datetime.datetime(2021, 5, 9, 6, 18, 47), favourites_count=1427, utc_offset=None, time_zone=None, geo_enabled=False, verified=False, statuses_count=4426, lang=None, contributors_enabled=False, is_translator=False, is_translation_enabled=False, profile_background_color='F5F8FA', profile_background_image_url=None, profile_background_image_url_https=None, profile_background_tile=False, profile_image_url='http://pbs.twimg.com/profile_images/1394107260096237571/BGwd66gz_normal.jpg', profile_image_url_https='https://pbs.twimg.com/profile_images/1394107260096237571/BGwd66gz_normal.jpg', profile_banner_url='https://pbs.twimg.com/profile_banners/1391276334773510145/1622108262', profile_link_color='1DA1F2', profile_sidebar_border_color='C0DEED', profile_sidebar_fill_color='DDEEF6', profile_text_color='333333', profile_use_background_image=True, has_extended_profile=True, default_profile=True, default_profile_image=False, following=False, follow_request_sent=None, notifications=None, translator_type='none', withheld_in_countries=[]), geo=None, coordinates=None, place=None, contributors=None, is_quote_status=False, retweet_count=0, favorite_count=0, favorited=False, retweeted=False, lang='th')]\n"
     ]
    }
   ],
   "source": [
    "print(ma)"
   ]
  },
  {
   "cell_type": "code",
   "execution_count": 128,
   "metadata": {},
   "outputs": [],
   "source": [
    "\n",
    "append_tweets(tweets2)\n"
   ]
  },
  {
   "cell_type": "code",
   "execution_count": 129,
   "metadata": {},
   "outputs": [
    {
     "name": "stdout",
     "output_type": "stream",
     "text": [
      "Total Tweets fetched: 800\n"
     ]
    }
   ],
   "source": [
    "print(\"Total Tweets fetched:\", len(sample_2))"
   ]
  },
  {
   "cell_type": "code",
   "execution_count": 130,
   "metadata": {},
   "outputs": [],
   "source": [
    "\n",
    "append_tweets(tweets3)"
   ]
  },
  {
   "cell_type": "code",
   "execution_count": 136,
   "metadata": {},
   "outputs": [
    {
     "name": "stdout",
     "output_type": "stream",
     "text": [
      "Total Tweets fetched: 803\n"
     ]
    }
   ],
   "source": [
    "print(\"Total Tweets fetched:\", len(sample_2))"
   ]
  },
  {
   "cell_type": "code",
   "execution_count": 228,
   "metadata": {},
   "outputs": [
    {
     "data": {
      "text/html": [
       "<div>\n",
       "<style scoped>\n",
       "    .dataframe tbody tr th:only-of-type {\n",
       "        vertical-align: middle;\n",
       "    }\n",
       "\n",
       "    .dataframe tbody tr th {\n",
       "        vertical-align: top;\n",
       "    }\n",
       "\n",
       "    .dataframe thead th {\n",
       "        text-align: right;\n",
       "    }\n",
       "</style>\n",
       "<table border=\"1\" class=\"dataframe\">\n",
       "  <thead>\n",
       "    <tr style=\"text-align: right;\">\n",
       "      <th></th>\n",
       "      <th>user_name</th>\n",
       "      <th>text</th>\n",
       "      <th>hashtags</th>\n",
       "    </tr>\n",
       "  </thead>\n",
       "  <tbody>\n",
       "    <tr>\n",
       "      <th>0</th>\n",
       "      <td>GMMTV</td>\n",
       "      <td>คนเป็นผู้หญิงเขาเสียหายนะ เขาแจ้งเอาผิดแกได้\\n...</td>\n",
       "      <td>None</td>\n",
       "    </tr>\n",
       "    <tr>\n",
       "      <th>1</th>\n",
       "      <td>CrCF_Thailand (มูลนิธิผสานวัฒนธรรม)</td>\n",
       "      <td>เรื่องราวของ​ผู้หญิงคนหนึ่ง​ ภรรยาผู้ถูกอุ้มหา...</td>\n",
       "      <td>[itcouldbeyou]</td>\n",
       "    </tr>\n",
       "    <tr>\n",
       "      <th>2</th>\n",
       "      <td>THE STANDARD</td>\n",
       "      <td>รัฐบาลเบลเยียมตัดสินใจระงับใช้วัคซีนป้องกันโรค...</td>\n",
       "      <td>[JohnsonJohnson]</td>\n",
       "    </tr>\n",
       "    <tr>\n",
       "      <th>3</th>\n",
       "      <td>PN KS</td>\n",
       "      <td>ตกหลุมรักและหลงเสน่ห์ คริส พีรวัส จากการดู Sot...</td>\n",
       "      <td>None</td>\n",
       "    </tr>\n",
       "    <tr>\n",
       "      <th>4</th>\n",
       "      <td>*</td>\n",
       "      <td>น้องม้าคเป็นผู้หญิงนะ</td>\n",
       "      <td>None</td>\n",
       "    </tr>\n",
       "    <tr>\n",
       "      <th>...</th>\n",
       "      <td>...</td>\n",
       "      <td>...</td>\n",
       "      <td>...</td>\n",
       "    </tr>\n",
       "    <tr>\n",
       "      <th>1995</th>\n",
       "      <td>GubGub 🍃</td>\n",
       "      <td>ผู้หญิงสวยอ่ะ แต่ใดๆคือจ้านจ้านอย่าเพิ่งนะ ยัง...</td>\n",
       "      <td>None</td>\n",
       "    </tr>\n",
       "    <tr>\n",
       "      <th>1996</th>\n",
       "      <td>พัตตี้อิอิ</td>\n",
       "      <td>เสร่อไปด่าเค้า แต่ลืมไปตัวเองเป็นใครก็ไม่รู้เส...</td>\n",
       "      <td>None</td>\n",
       "    </tr>\n",
       "    <tr>\n",
       "      <th>1997</th>\n",
       "      <td>no matter how far III exo คัมแบค 7 มิ.ย.</td>\n",
       "      <td>ผู้หญิงคนนี้กำลังหมดแรง 😭</td>\n",
       "      <td>None</td>\n",
       "    </tr>\n",
       "    <tr>\n",
       "      <th>1998</th>\n",
       "      <td>Ranny_</td>\n",
       "      <td>- Kugisaki Nobara … จงดีใจซะนะที่มีผู้หญิงอย่า...</td>\n",
       "      <td>None</td>\n",
       "    </tr>\n",
       "    <tr>\n",
       "      <th>1999</th>\n",
       "      <td>เว้นไว้เป็นที่เข้าใจ</td>\n",
       "      <td>จะเป็นไปได้ไหม\\nถ้าจะมีเพื่อนผู้หญิงที่คุยกันไ...</td>\n",
       "      <td>None</td>\n",
       "    </tr>\n",
       "  </tbody>\n",
       "</table>\n",
       "<p>2000 rows × 3 columns</p>\n",
       "</div>"
      ],
      "text/plain": [
       "                                     user_name  \\\n",
       "0                                        GMMTV   \n",
       "1          CrCF_Thailand (มูลนิธิผสานวัฒนธรรม)   \n",
       "2                                 THE STANDARD   \n",
       "3                                        PN KS   \n",
       "4                                            *   \n",
       "...                                        ...   \n",
       "1995                                  GubGub 🍃   \n",
       "1996                                พัตตี้อิอิ   \n",
       "1997  no matter how far III exo คัมแบค 7 มิ.ย.   \n",
       "1998                                    Ranny_   \n",
       "1999                      เว้นไว้เป็นที่เข้าใจ   \n",
       "\n",
       "                                                   text          hashtags  \n",
       "0     คนเป็นผู้หญิงเขาเสียหายนะ เขาแจ้งเอาผิดแกได้\\n...              None  \n",
       "1     เรื่องราวของ​ผู้หญิงคนหนึ่ง​ ภรรยาผู้ถูกอุ้มหา...    [itcouldbeyou]  \n",
       "2     รัฐบาลเบลเยียมตัดสินใจระงับใช้วัคซีนป้องกันโรค...  [JohnsonJohnson]  \n",
       "3     ตกหลุมรักและหลงเสน่ห์ คริส พีรวัส จากการดู Sot...              None  \n",
       "4                                 น้องม้าคเป็นผู้หญิงนะ              None  \n",
       "...                                                 ...               ...  \n",
       "1995  ผู้หญิงสวยอ่ะ แต่ใดๆคือจ้านจ้านอย่าเพิ่งนะ ยัง...              None  \n",
       "1996  เสร่อไปด่าเค้า แต่ลืมไปตัวเองเป็นใครก็ไม่รู้เส...              None  \n",
       "1997                          ผู้หญิงคนนี้กำลังหมดแรง 😭              None  \n",
       "1998  - Kugisaki Nobara … จงดีใจซะนะที่มีผู้หญิงอย่า...              None  \n",
       "1999  จะเป็นไปได้ไหม\\nถ้าจะมีเพื่อนผู้หญิงที่คุยกันไ...              None  \n",
       "\n",
       "[2000 rows x 3 columns]"
      ]
     },
     "execution_count": 228,
     "metadata": {},
     "output_type": "execute_result"
    }
   ],
   "source": [
    "import pandas as pd\n",
    "\n",
    "# intialize the dataframe\n",
    "tweets = pd.DataFrame()\n",
    "\n",
    "# populate the dataframe\n",
    "for tweet in girl:\n",
    "    hashtags = []\n",
    "    try:\n",
    "        for hashtag in tweet.entities[\"hashtags\"]:\n",
    "            hashtags.append(hashtag[\"text\"])\n",
    "        text = api.get_status(id=tweet.id, tweet_mode='extended').full_text\n",
    "    except:\n",
    "        pass\n",
    "    tweets = tweets.append(pd.DataFrame({'user_name': tweet.user.name,\\\n",
    "                                               'text': text, \n",
    "                                               'hashtags': [hashtags if hashtags else None],\n",
    "                                               }))\n",
    "    tweets = tweets.reset_index(drop=True)\n",
    "\n",
    "# show the dataframe\n",
    "tweets"
   ]
  },
  {
   "cell_type": "code",
   "execution_count": 229,
   "metadata": {},
   "outputs": [
    {
     "name": "stdout",
     "output_type": "stream",
     "text": [
      "                                     user_name  \\\n",
      "0                                        GMMTV   \n",
      "1          CrCF_Thailand (มูลนิธิผสานวัฒนธรรม)   \n",
      "2                                 THE STANDARD   \n",
      "3                                        PN KS   \n",
      "4                                            *   \n",
      "...                                        ...   \n",
      "1995                                  GubGub 🍃   \n",
      "1996                                พัตตี้อิอิ   \n",
      "1997  no matter how far III exo คัมแบค 7 มิ.ย.   \n",
      "1998                                    Ranny_   \n",
      "1999                      เว้นไว้เป็นที่เข้าใจ   \n",
      "\n",
      "                                                   text          hashtags  \n",
      "0     คนเป็นผู้หญิงเขาเสียหายนะ เขาแจ้งเอาผิดแกได้\\n...              None  \n",
      "1     เรื่องราวของ​ผู้หญิงคนหนึ่ง​ ภรรยาผู้ถูกอุ้มหา...    [itcouldbeyou]  \n",
      "2     รัฐบาลเบลเยียมตัดสินใจระงับใช้วัคซีนป้องกันโรค...  [JohnsonJohnson]  \n",
      "3     ตกหลุมรักและหลงเสน่ห์ คริส พีรวัส จากการดู Sot...              None  \n",
      "4                                 น้องม้าคเป็นผู้หญิงนะ              None  \n",
      "...                                                 ...               ...  \n",
      "1995  ผู้หญิงสวยอ่ะ แต่ใดๆคือจ้านจ้านอย่าเพิ่งนะ ยัง...              None  \n",
      "1996  เสร่อไปด่าเค้า แต่ลืมไปตัวเองเป็นใครก็ไม่รู้เส...              None  \n",
      "1997                          ผู้หญิงคนนี้กำลังหมดแรง 😭              None  \n",
      "1998  - Kugisaki Nobara … จงดีใจซะนะที่มีผู้หญิงอย่า...              None  \n",
      "1999  จะเป็นไปได้ไหม\\nถ้าจะมีเพื่อนผู้หญิงที่คุยกันไ...              None  \n",
      "\n",
      "[2000 rows x 3 columns]\n"
     ]
    }
   ],
   "source": [
    "# tweets_df.to_csv('df_output.csv', encoding='utf-8')\n",
    "tweets.to_csv (r'C:\\Users\\HP\\Desktop\\export_dataframe2.csv', index = False, header=True, encoding='utf-8-sig')\n",
    "\n",
    "print (tweets)"
   ]
  },
  {
   "cell_type": "code",
   "execution_count": null,
   "metadata": {},
   "outputs": [],
   "source": []
  }
 ],
 "metadata": {
  "kernelspec": {
   "display_name": "Python 3",
   "language": "python",
   "name": "python3"
  },
  "language_info": {
   "codemirror_mode": {
    "name": "ipython",
    "version": 3
   },
   "file_extension": ".py",
   "mimetype": "text/x-python",
   "name": "python",
   "nbconvert_exporter": "python",
   "pygments_lexer": "ipython3",
   "version": "3.8.3"
  }
 },
 "nbformat": 4,
 "nbformat_minor": 4
}
